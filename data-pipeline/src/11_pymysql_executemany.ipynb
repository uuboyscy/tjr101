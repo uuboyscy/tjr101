{
 "cells": [
  {
   "cell_type": "code",
   "execution_count": 1,
   "metadata": {},
   "outputs": [],
   "source": [
    "import pymysql"
   ]
  },
  {
   "cell_type": "code",
   "execution_count": 2,
   "metadata": {},
   "outputs": [
    {
     "name": "stdout",
     "output_type": "stream",
     "text": [
      "Successfully connected!\n"
     ]
    }
   ],
   "source": [
    "host = 'host.docker.internal'\n",
    "port = 3306\n",
    "user = 'root'\n",
    "passwd = 'passWord'\n",
    "db = 'TESTDB'\n",
    "charset = 'utf8mb4'\n",
    "\n",
    "# 建立連線\n",
    "conn = pymysql.connect(host=host, port=port, user=user, passwd=passwd, db=db, charset=charset)\n",
    "print('Successfully connected!')\n",
    "\n",
    "cursor = conn.cursor()"
   ]
  },
  {
   "cell_type": "code",
   "execution_count": 3,
   "metadata": {},
   "outputs": [],
   "source": [
    "sql_insert = \"\"\"\n",
    "INSERT INTO Staff (ID, Name, DeptId, Age, Gender, Salary, recordDt)\n",
    "VALUES (%s, %s, %s, %s, %s, %s, %s);\n",
    "\"\"\"\n",
    "\n",
    "values = [\n",
    "    (\"001\", \"Mike\", \"002\", \"45\", \"M\", \"60000\", \"2020-10-13 21:41:49\"),\n",
    "    (\"002\", \"Judy\", \"002\", \"30\", \"F\", \"48000\", \"2020-10-13 21:41:49\"),\n",
    "    (\"003\", \"Allen\", \"001\", \"22\", \"M\", \"50000\", \"2020-10-13 21:41:49\"),\n",
    "    (\"004\", \"Tom\", \"002\", \"47\", \"M\", \"47000\", \"2020-10-13 21:41:49\"),\n",
    "    (\"005\", \"Jack\", \"003\", \"36\", \"M\", \"52000\", \"2020-10-13 21:41:49\"),\n",
    "    (\"006\", \"Abby\", \"002\", \"24\", \"F\", \"45000\", \"2020-10-13 21:41:49\"),\n",
    "    (\"007\", \"Trump\", \"001\", \"80\", \"M\", \"80000\", \"2020-10-13 21:41:49\"),\n",
    "    (\"008\", \"Marry\", \"003\", \"29\", \"F\", \"87000\", \"2020-10-13 21:41:49\")\n",
    "]"
   ]
  },
  {
   "cell_type": "code",
   "execution_count": 4,
   "metadata": {},
   "outputs": [
    {
     "data": {
      "text/plain": [
       "8"
      ]
     },
     "execution_count": 4,
     "metadata": {},
     "output_type": "execute_result"
    }
   ],
   "source": [
    "cursor.executemany(sql_insert, values)"
   ]
  },
  {
   "cell_type": "code",
   "execution_count": 5,
   "metadata": {},
   "outputs": [],
   "source": [
    "conn.commit()"
   ]
  },
  {
   "cell_type": "code",
   "execution_count": 6,
   "metadata": {},
   "outputs": [],
   "source": [
    "cursor.close()\n",
    "conn.close()"
   ]
  },
  {
   "cell_type": "code",
   "execution_count": null,
   "metadata": {},
   "outputs": [],
   "source": []
  }
 ],
 "metadata": {
  "kernelspec": {
   "display_name": "Python 3",
   "language": "python",
   "name": "python3"
  },
  "language_info": {
   "codemirror_mode": {
    "name": "ipython",
    "version": 3
   },
   "file_extension": ".py",
   "mimetype": "text/x-python",
   "name": "python",
   "nbconvert_exporter": "python",
   "pygments_lexer": "ipython3",
   "version": "3.12.9"
  }
 },
 "nbformat": 4,
 "nbformat_minor": 2
}
